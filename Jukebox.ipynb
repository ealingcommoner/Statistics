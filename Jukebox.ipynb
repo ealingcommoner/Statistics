{
  "nbformat": 4,
  "nbformat_minor": 0,
  "metadata": {
    "accelerator": "GPU",
    "colab": {
      "name": "Copy of Copy of Interacting with Jukebox",
      "provenance": [],
      "collapsed_sections": [],
      "machine_shape": "hm",
      "include_colab_link": true
    },
    "kernelspec": {
      "display_name": "Python 3",
      "name": "python3"
    }
  },
  "cells": [
    {
      "cell_type": "markdown",
      "metadata": {
        "id": "view-in-github",
        "colab_type": "text"
      },
      "source": [
        "<a href=\"https://colab.research.google.com/github/ealingcommoner/Statistics/blob/master/Jukebox.ipynb\" target=\"_parent\"><img src=\"https://colab.research.google.com/assets/colab-badge.svg\" alt=\"Open In Colab\"/></a>"
      ]
    },
    {
      "cell_type": "code",
      "metadata": {
        "colab": {
          "base_uri": "https://localhost:8080/"
        },
        "id": "sAdFGF-bqVMY",
        "outputId": "7b88b5f9-f0bf-4a6d-91a0-9a91fa1afa04"
      },
      "source": [
        "!pip install git+https://github.com/openai/jukebox.git"
      ],
      "execution_count": null,
      "outputs": [
        {
          "output_type": "stream",
          "text": [
            "Collecting git+https://github.com/openai/jukebox.git\n",
            "  Cloning https://github.com/openai/jukebox.git to /tmp/pip-req-build-ivd51ppa\n",
            "  Running command git clone -q https://github.com/openai/jukebox.git /tmp/pip-req-build-ivd51ppa\n",
            "Collecting fire==0.1.3\n",
            "  Downloading https://files.pythonhosted.org/packages/5a/b7/205702f348aab198baecd1d8344a90748cb68f53bdcd1cc30cbc08e47d3e/fire-0.1.3.tar.gz\n",
            "Collecting tqdm==4.45.0\n",
            "\u001b[?25l  Downloading https://files.pythonhosted.org/packages/4a/1c/6359be64e8301b84160f6f6f7936bbfaaa5e9a4eab6cbc681db07600b949/tqdm-4.45.0-py2.py3-none-any.whl (60kB)\n",
            "\u001b[K     |████████████████████████████████| 61kB 7.0MB/s \n",
            "\u001b[?25hRequirement already satisfied: soundfile==0.10.3.post1 in /usr/local/lib/python3.7/dist-packages (from jukebox==1.0) (0.10.3.post1)\n",
            "Collecting unidecode==1.1.1\n",
            "\u001b[?25l  Downloading https://files.pythonhosted.org/packages/d0/42/d9edfed04228bacea2d824904cae367ee9efd05e6cce7ceaaedd0b0ad964/Unidecode-1.1.1-py2.py3-none-any.whl (238kB)\n",
            "\u001b[K     |████████████████████████████████| 245kB 45.4MB/s \n",
            "\u001b[?25hCollecting numba==0.48.0\n",
            "\u001b[?25l  Downloading https://files.pythonhosted.org/packages/39/dc/5ce4a94d98e8a31cab21b150e23ca2f09a7dd354c06a69f71801ecd890db/numba-0.48.0-1-cp37-cp37m-manylinux2014_x86_64.whl (3.5MB)\n",
            "\u001b[K     |████████████████████████████████| 3.6MB 56.1MB/s \n",
            "\u001b[?25hCollecting librosa==0.7.2\n",
            "\u001b[?25l  Downloading https://files.pythonhosted.org/packages/77/b5/1817862d64a7c231afd15419d8418ae1f000742cac275e85c74b219cbccb/librosa-0.7.2.tar.gz (1.6MB)\n",
            "\u001b[K     |████████████████████████████████| 1.6MB 45.2MB/s \n",
            "\u001b[?25hCollecting mpi4py>=3.0.0\n",
            "\u001b[?25l  Downloading https://files.pythonhosted.org/packages/ec/8f/bbd8de5ba566dd77e408d8136e2bab7fdf2b97ce06cab830ba8b50a2f588/mpi4py-3.0.3.tar.gz (1.4MB)\n",
            "\u001b[K     |████████████████████████████████| 1.4MB 44.1MB/s \n",
            "\u001b[?25hRequirement already satisfied: six in /usr/local/lib/python3.7/dist-packages (from fire==0.1.3->jukebox==1.0) (1.15.0)\n",
            "Requirement already satisfied: cffi>=1.0 in /usr/local/lib/python3.7/dist-packages (from soundfile==0.10.3.post1->jukebox==1.0) (1.14.5)\n",
            "Collecting llvmlite<0.32.0,>=0.31.0dev0\n",
            "\u001b[?25l  Downloading https://files.pythonhosted.org/packages/a0/10/d02c0ac683fc47ecda3426249509cf771d748b6a2c0e9d5ebbee76a7b80a/llvmlite-0.31.0-cp37-cp37m-manylinux1_x86_64.whl (20.2MB)\n",
            "\u001b[K     |████████████████████████████████| 20.2MB 6.3MB/s \n",
            "\u001b[?25hRequirement already satisfied: setuptools in /usr/local/lib/python3.7/dist-packages (from numba==0.48.0->jukebox==1.0) (56.0.0)\n",
            "Requirement already satisfied: numpy>=1.15 in /usr/local/lib/python3.7/dist-packages (from numba==0.48.0->jukebox==1.0) (1.19.5)\n",
            "Requirement already satisfied: audioread>=2.0.0 in /usr/local/lib/python3.7/dist-packages (from librosa==0.7.2->jukebox==1.0) (2.1.9)\n",
            "Requirement already satisfied: scipy>=1.0.0 in /usr/local/lib/python3.7/dist-packages (from librosa==0.7.2->jukebox==1.0) (1.4.1)\n",
            "Requirement already satisfied: scikit-learn!=0.19.0,>=0.14.0 in /usr/local/lib/python3.7/dist-packages (from librosa==0.7.2->jukebox==1.0) (0.22.2.post1)\n",
            "Requirement already satisfied: joblib>=0.12 in /usr/local/lib/python3.7/dist-packages (from librosa==0.7.2->jukebox==1.0) (1.0.1)\n",
            "Requirement already satisfied: decorator>=3.0.0 in /usr/local/lib/python3.7/dist-packages (from librosa==0.7.2->jukebox==1.0) (4.4.2)\n",
            "Requirement already satisfied: resampy>=0.2.2 in /usr/local/lib/python3.7/dist-packages (from librosa==0.7.2->jukebox==1.0) (0.2.2)\n",
            "Requirement already satisfied: pycparser in /usr/local/lib/python3.7/dist-packages (from cffi>=1.0->soundfile==0.10.3.post1->jukebox==1.0) (2.20)\n",
            "Building wheels for collected packages: jukebox, fire, librosa, mpi4py\n",
            "  Building wheel for jukebox (setup.py) ... \u001b[?25l\u001b[?25hdone\n",
            "  Created wheel for jukebox: filename=jukebox-1.0-cp37-none-any.whl size=197908 sha256=13609ec4f325853dd20f20c7a85d4469cd5c91a843bf67a6bb37942963f1de92\n",
            "  Stored in directory: /tmp/pip-ephem-wheel-cache-np57i4u7/wheels/bd/b6/f9/ad38a67dd989a522bbe6677e95efbc4607cdcf71e7249485fe\n",
            "  Building wheel for fire (setup.py) ... \u001b[?25l\u001b[?25hdone\n",
            "  Created wheel for fire: filename=fire-0.1.3-py2.py3-none-any.whl size=49705 sha256=4a9091fd99475ec19730c19d9a69a15ed78683d5ffe8dbf39dd213ef219e5726\n",
            "  Stored in directory: /root/.cache/pip/wheels/2a/1a/4d/6b30377c3051e76559d1185c1dbbfff15aed31f87acdd14c22\n",
            "  Building wheel for librosa (setup.py) ... \u001b[?25l\u001b[?25hdone\n",
            "  Created wheel for librosa: filename=librosa-0.7.2-cp37-none-any.whl size=1612885 sha256=2838acbf89b9ed6cf7cf547caa990e34a26a0486d2b9f6f2a1055df30ad5b180\n",
            "  Stored in directory: /root/.cache/pip/wheels/4c/6e/d7/bb93911540d2d1e44d690a1561871e5b6af82b69e80938abef\n",
            "  Building wheel for mpi4py (setup.py) ... \u001b[?25l\u001b[?25hdone\n",
            "  Created wheel for mpi4py: filename=mpi4py-3.0.3-cp37-cp37m-linux_x86_64.whl size=2065187 sha256=e874f67b65da324a90a62ccdd2d9083a412f1f2f370b6246f527dcc4b92db936\n",
            "  Stored in directory: /root/.cache/pip/wheels/18/e0/86/2b713dd512199096012ceca61429e12b960888de59818871d6\n",
            "Successfully built jukebox fire librosa mpi4py\n",
            "Installing collected packages: fire, tqdm, unidecode, llvmlite, numba, librosa, mpi4py, jukebox\n",
            "  Found existing installation: tqdm 4.41.1\n",
            "    Uninstalling tqdm-4.41.1:\n",
            "      Successfully uninstalled tqdm-4.41.1\n",
            "  Found existing installation: llvmlite 0.34.0\n",
            "    Uninstalling llvmlite-0.34.0:\n",
            "      Successfully uninstalled llvmlite-0.34.0\n",
            "  Found existing installation: numba 0.51.2\n",
            "    Uninstalling numba-0.51.2:\n",
            "      Successfully uninstalled numba-0.51.2\n",
            "  Found existing installation: librosa 0.8.0\n",
            "    Uninstalling librosa-0.8.0:\n",
            "      Successfully uninstalled librosa-0.8.0\n",
            "Successfully installed fire-0.1.3 jukebox-1.0 librosa-0.7.2 llvmlite-0.31.0 mpi4py-3.0.3 numba-0.48.0 tqdm-4.45.0 unidecode-1.1.1\n"
          ],
          "name": "stdout"
        }
      ]
    },
    {
      "cell_type": "markdown",
      "metadata": {
        "id": "uq8uLwZCn0BV"
      },
      "source": [
        "IMPORTANT NOTE ON SYSTEM REQUIREMENTS:\n",
        "\n",
        "If you are connecting to a hosted runtime, make sure it has a P100 GPU (optionally run !nvidia-smi to confirm). Go to Edit>Notebook Settings to set this.\n",
        "\n",
        "CoLab may first assign you a lower memory machine if you are using a hosted runtime.  If so, the first time you try to load the 5B model, it will run out of memory, and then you'll be prompted to restart with more memory (then return to the top of this CoLab).  If you continue to have memory issues after this (or run into issues on your own home setup), switch to the 1B model.\n",
        "\n",
        "If you are using a local GPU, we recommend V100 or P100 with 16GB GPU memory for best performance. For GPU’s with less memory, we recommend using the 1B model and a smaller batch size throughout.  \n",
        "\n"
      ]
    },
    {
      "cell_type": "code",
      "metadata": {
        "colab": {
          "base_uri": "https://localhost:8080/"
        },
        "id": "8qEqdj8u0gdN",
        "outputId": "f1a5bce0-c150-4b61-ff5f-0fbfde055ba3"
      },
      "source": [
        "!nvidia-smi"
      ],
      "execution_count": null,
      "outputs": [
        {
          "output_type": "stream",
          "text": [
            "Fri May  7 07:28:35 2021       \n",
            "+-----------------------------------------------------------------------------+\n",
            "| NVIDIA-SMI 465.19.01    Driver Version: 460.32.03    CUDA Version: 11.2     |\n",
            "|-------------------------------+----------------------+----------------------+\n",
            "| GPU  Name        Persistence-M| Bus-Id        Disp.A | Volatile Uncorr. ECC |\n",
            "| Fan  Temp  Perf  Pwr:Usage/Cap|         Memory-Usage | GPU-Util  Compute M. |\n",
            "|                               |                      |               MIG M. |\n",
            "|===============================+======================+======================|\n",
            "|   0  Tesla T4            Off  | 00000000:00:04.0 Off |                    0 |\n",
            "| N/A   35C    P8     9W /  70W |      0MiB / 15109MiB |      0%      Default |\n",
            "|                               |                      |                  N/A |\n",
            "+-------------------------------+----------------------+----------------------+\n",
            "                                                                               \n",
            "+-----------------------------------------------------------------------------+\n",
            "| Processes:                                                                  |\n",
            "|  GPU   GI   CI        PID   Type   Process name                  GPU Memory |\n",
            "|        ID   ID                                                   Usage      |\n",
            "|=============================================================================|\n",
            "|  No running processes found                                                 |\n",
            "+-----------------------------------------------------------------------------+\n"
          ],
          "name": "stdout"
        }
      ]
    },
    {
      "cell_type": "code",
      "metadata": {
        "colab": {
          "base_uri": "https://localhost:8080/"
        },
        "id": "taDHgk1WCC_C",
        "outputId": "2a0f6a48-15f2-4b57-e56c-583ce03f1bef"
      },
      "source": [
        "import jukebox\n",
        "import torch as t\n",
        "import librosa\n",
        "import os\n",
        "from IPython.display import Audio\n",
        "from jukebox.make_models import make_vqvae, make_prior, MODELS, make_model\n",
        "from jukebox.hparams import Hyperparams, setup_hparams\n",
        "from jukebox.sample import sample_single_window, _sample, \\\n",
        "                           sample_partial_window, upsample\n",
        "from jukebox.utils.dist_utils import setup_dist_from_mpi\n",
        "from jukebox.utils.torch_utils import empty_cache\n",
        "rank, local_rank, device = setup_dist_from_mpi()"
      ],
      "execution_count": null,
      "outputs": [
        {
          "output_type": "stream",
          "text": [
            "Using cuda True\n"
          ],
          "name": "stdout"
        }
      ]
    },
    {
      "cell_type": "markdown",
      "metadata": {
        "id": "89FftI5kc-Az"
      },
      "source": [
        "# Sample from the 5B or 1B Lyrics Model\n"
      ]
    },
    {
      "cell_type": "code",
      "metadata": {
        "colab": {
          "base_uri": "https://localhost:8080/"
        },
        "id": "65aR2OZxmfzq",
        "outputId": "b2feb154-3ee6-4559-a608-4c8a41308762"
      },
      "source": [
        "model = \"1b_lyrics\"     \n",
        "hps = Hyperparams()\n",
        "hps.sr = 44100\n",
        "hps.n_samples = 3 if model=='5b_lyrics' else 8\n",
        "hps.name = 'samples'\n",
        "chunk_size = 16 if model==\"5b_lyrics\" else 32\n",
        "max_batch_size = 3 if model==\"5b_lyrics\" else 8\n",
        "hps.levels = 3\n",
        "hps.hop_fraction = [.5,.5,.125]\n",
        "\n",
        "vqvae, *priors = MODELS[model]\n",
        "vqvae = make_vqvae(setup_hparams(vqvae, dict(sample_length = 1048576)), device)\n",
        "top_prior = make_prior(setup_hparams(priors[-1], dict()), vqvae, device)\n",
        "\n"
      ],
      "execution_count": null,
      "outputs": [
        {
          "output_type": "stream",
          "text": [
            "Downloading from azure\n",
            "Running  wget -O /root/.cache/jukebox/models/5b/vqvae.pth.tar https://openaipublic.azureedge.net/jukebox/models/5b/vqvae.pth.tar\n",
            "Restored from /root/.cache/jukebox/models/5b/vqvae.pth.tar\n",
            "0: Loading vqvae in eval mode\n",
            "Creating cond. autoregress with prior bins [79, 2048], \n",
            "dims [384, 6144], \n",
            "shift [ 0 79]\n",
            "input shape 6528\n",
            "input bins 2127\n",
            "Self copy is False\n",
            "Loading artist IDs from /usr/local/lib/python3.7/dist-packages/jukebox/data/ids/v3_artist_ids.txt\n",
            "Loading artist IDs from /usr/local/lib/python3.7/dist-packages/jukebox/data/ids/v3_genre_ids.txt\n",
            "Level:2, Cond downsample:None, Raw to tokens:128, Sample length:786432\n",
            "Downloading from azure\n",
            "Running  wget -O /root/.cache/jukebox/models/1b_lyrics/prior_level_2.pth.tar https://openaipublic.azureedge.net/jukebox/models/1b_lyrics/prior_level_2.pth.tar\n",
            "Restored from /root/.cache/jukebox/models/1b_lyrics/prior_level_2.pth.tar\n",
            "0: Loading prior in eval mode\n"
          ],
          "name": "stdout"
        }
      ]
    },
    {
      "cell_type": "markdown",
      "metadata": {
        "id": "JYKiwkzy0Iyf"
      },
      "source": [
        "Specify your choice of artist, genre, lyrics, and length of musical sample. "
      ]
    },
    {
      "cell_type": "code",
      "metadata": {
        "id": "-sY9aGHcZP-u"
      },
      "source": [
        "sample_length_in_seconds = 120          # Full length of musical sample to generate - we find songs in the 1 to 4 minute\n",
        "                                       # range work well, with generation time proportional to sample length.  \n",
        "                                       # This total length affects how quickly the model \n",
        "                                       # progresses through lyrics (model also generates differently\n",
        "                                       # depending on if it thinks it's in the beginning, middle, or end of sample)\n",
        "\n",
        "hps.sample_length = (int(sample_length_in_seconds*hps.sr)//top_prior.raw_to_tokens)*top_prior.raw_to_tokens\n",
        "assert hps.sample_length >= top_prior.n_ctx*top_prior.raw_to_tokens, f'Please choose a larger sampling rate'"
      ],
      "execution_count": null,
      "outputs": []
    },
    {
      "cell_type": "code",
      "metadata": {
        "id": "qD0qxQeLaTR0"
      },
      "source": [
        "metas = [dict(artist = \"Taylor Swift\",\n",
        "            genre = \"Pop\",\n",
        "            total_length = hps.sample_length,\n",
        "            offset = 0,\n",
        "            lyrics = \"\"\"I care not what their overall politics are, \n",
        "            they get my vote if this is one of their top priorities.\n",
        "            Another nightmare on Boston Manor Road today.\n",
        "            THIS MADNESS MUST END\n",
        "            We're not electing local councillors this week, only Mayor and London Assembly.\n",
        "            That's a lot of idling traffic in several locations and hugely increased pollution.\n",
        "            “The chaos everywhere “ could be alleviated by removing damned fool LTNs \n",
        "            so traffic can find alternative routes\n",
        "            It’s common sense.\n",
        "            Also, do you own a car\n",
        "            Roadworks opposite the Viaduct\n",
        "            Very Soviet style in it's application.\n",
        "            We can but hope that BellEnd really digs his heels in\n",
        "            \"\"\",\n",
        "            ),\n",
        "          ] * hps.n_samples\n",
        "labels = [None, None, top_prior.labeller.get_batch_labels(metas, 'cuda')]"
      ],
      "execution_count": null,
      "outputs": []
    },
    {
      "cell_type": "markdown",
      "metadata": {
        "id": "6PHC1XnEfV4Y"
      },
      "source": [
        "Optionally adjust the sampling temperature (we've found .98 or .99 to be our favorite).  \n"
      ]
    },
    {
      "cell_type": "code",
      "metadata": {
        "id": "eNwKyqYraTR9"
      },
      "source": [
        "sampling_temperature = .98\n",
        "\n",
        "lower_batch_size = 16\n",
        "max_batch_size = 3 if model == \"5b_lyrics\" else 16\n",
        "lower_level_chunk_size = 32\n",
        "chunk_size = 16 if model == \"5b_lyrics\" else 32\n",
        "sampling_kwargs = [dict(temp=.99, fp16=True, max_batch_size=lower_batch_size,\n",
        "                        chunk_size=lower_level_chunk_size),\n",
        "                    dict(temp=0.99, fp16=True, max_batch_size=lower_batch_size,\n",
        "                         chunk_size=lower_level_chunk_size),\n",
        "                    dict(temp=sampling_temperature, fp16=True, \n",
        "                         max_batch_size=max_batch_size, chunk_size=chunk_size)]"
      ],
      "execution_count": null,
      "outputs": []
    },
    {
      "cell_type": "markdown",
      "metadata": {
        "id": "S3j0gT3HfrRD"
      },
      "source": [
        "Now we're ready to sample from the model. We'll generate the top level (2) first, followed by the first upsampling (level 1), and the second upsampling (0).  In this CoLab we load the top prior separately from the upsamplers, because of memory concerns on the hosted runtimes. If you are using a local machine, you can also load all models directly with make_models, and then use sample.py's ancestral_sampling to put this all in one step.\n",
        "\n",
        "After each level, we decode to raw audio and save the audio files.   \n",
        "\n",
        "This next cell will take a while (approximately 10 minutes per 20 seconds of music sample)"
      ]
    },
    {
      "cell_type": "code",
      "metadata": {
        "colab": {
          "background_save": true,
          "base_uri": "https://localhost:8080/"
        },
        "id": "2nET_YBEopyp",
        "outputId": "62f44827-a8db-4e81-f202-fa6c583d2d62"
      },
      "source": [
        "zs = [t.zeros(hps.n_samples,0,dtype=t.long, device='cuda') for _ in range(len(priors))]\n",
        "zs = _sample(zs, labels, sampling_kwargs, [None, None, top_prior], [2], hps)"
      ],
      "execution_count": null,
      "outputs": [
        {
          "output_type": "stream",
          "text": [
            "Sampling level 2\n",
            "Sampling 6144 tokens for [0,6144]. Conditioning on 0 tokens\n",
            "Ancestral sampling 8 samples with temp=0.98, top_k=0, top_p=0.0\n",
            "12/12 [00:01<00:00,  6.32it/s]\n",
            "6144/6144 [07:51<00:00, 13.03it/s]\n",
            "Sampling 6144 tokens for [768,6912]. Conditioning on 5376 tokens\n",
            "Primed sampling 8 samples with temp=0.98, top_k=0, top_p=0.0\n",
            "180/180 [00:30<00:00,  5.95it/s]\n",
            "768/768 [01:13<00:00, 10.38it/s]\n",
            "Sampling 6144 tokens for [1536,7680]. Conditioning on 5376 tokens\n",
            "Primed sampling 8 samples with temp=0.98, top_k=0, top_p=0.0\n",
            "180/180 [00:30<00:00,  5.94it/s]\n",
            "768/768 [01:14<00:00, 10.36it/s]\n",
            "Sampling 6144 tokens for [2304,8448]. Conditioning on 5376 tokens\n",
            "Primed sampling 8 samples with temp=0.98, top_k=0, top_p=0.0\n",
            "180/180 [00:30<00:00,  5.94it/s]\n",
            "768/768 [01:13<00:00, 10.39it/s]\n",
            "Sampling 6144 tokens for [3072,9216]. Conditioning on 5376 tokens\n",
            "Primed sampling 8 samples with temp=0.98, top_k=0, top_p=0.0\n",
            "180/180 [00:30<00:00,  5.96it/s]\n",
            "768/768 [01:13<00:00, 10.39it/s]\n",
            "Sampling 6144 tokens for [3840,9984]. Conditioning on 5376 tokens\n",
            "Primed sampling 8 samples with temp=0.98, top_k=0, top_p=0.0\n",
            "180/180 [00:30<00:00,  5.95it/s]\n",
            "768/768 [01:13<00:00, 10.39it/s]\n",
            "Sampling 6144 tokens for [4608,10752]. Conditioning on 5376 tokens\n",
            "Primed sampling 8 samples with temp=0.98, top_k=0, top_p=0.0\n",
            "180/180 [00:30<00:00,  5.95it/s]\n",
            "768/768 [01:14<00:00, 10.37it/s]\n",
            "Sampling 6144 tokens for [5376,11520]. Conditioning on 5376 tokens\n",
            "Primed sampling 8 samples with temp=0.98, top_k=0, top_p=0.0\n",
            "180/180 [00:30<00:00,  5.94it/s]\n",
            "768/768 [01:13<00:00, 10.38it/s]\n",
            "Sampling 6144 tokens for [6144,12288]. Conditioning on 5376 tokens\n",
            "Primed sampling 8 samples with temp=0.98, top_k=0, top_p=0.0\n",
            "180/180 [00:30<00:00,  5.95it/s]\n",
            "768/768 [01:13<00:00, 10.40it/s]\n",
            "Sampling 6144 tokens for [6912,13056]. Conditioning on 5376 tokens\n",
            "Primed sampling 8 samples with temp=0.98, top_k=0, top_p=0.0\n",
            "180/180 [00:30<00:00,  5.95it/s]\n",
            "768/768 [01:13<00:00, 10.40it/s]\n",
            "Sampling 6144 tokens for [7680,13824]. Conditioning on 5376 tokens\n",
            "Primed sampling 8 samples with temp=0.98, top_k=0, top_p=0.0\n",
            "180/180 [00:30<00:00,  5.95it/s]\n",
            "768/768 [01:13<00:00, 10.40it/s]\n",
            "Sampling 6144 tokens for [8448,14592]. Conditioning on 5376 tokens\n",
            "Primed sampling 8 samples with temp=0.98, top_k=0, top_p=0.0\n",
            "180/180 [00:30<00:00,  5.97it/s]\n",
            "768/768 [01:13<00:00, 10.41it/s]\n",
            "Sampling 6144 tokens for [9216,15360]. Conditioning on 5376 tokens\n",
            "Primed sampling 8 samples with temp=0.98, top_k=0, top_p=0.0\n",
            "180/180 [00:30<00:00,  5.96it/s]\n",
            "768/768 [01:13<00:00, 10.39it/s]\n",
            "Sampling 6144 tokens for [9984,16128]. Conditioning on 5376 tokens\n",
            "Primed sampling 8 samples with temp=0.98, top_k=0, top_p=0.0\n",
            "180/180 [00:30<00:00,  5.96it/s]\n",
            "768/768 [01:13<00:00, 10.40it/s]\n",
            "Sampling 6144 tokens for [10752,16896]. Conditioning on 5376 tokens\n",
            "Primed sampling 8 samples with temp=0.98, top_k=0, top_p=0.0\n",
            "180/180 [00:30<00:00,  5.97it/s]\n",
            "768/768 [01:13<00:00, 10.39it/s]\n",
            "Sampling 6144 tokens for [11520,17664]. Conditioning on 5376 tokens\n",
            "Primed sampling 8 samples with temp=0.98, top_k=0, top_p=0.0\n",
            "180/180 [00:30<00:00,  5.96it/s]\n",
            "768/768 [01:13<00:00, 10.40it/s]\n",
            "Sampling 6144 tokens for [12288,18432]. Conditioning on 5376 tokens\n",
            "Primed sampling 8 samples with temp=0.98, top_k=0, top_p=0.0\n",
            "180/180 [00:30<00:00,  5.97it/s]\n",
            "768/768 [01:13<00:00, 10.41it/s]\n",
            "Sampling 6144 tokens for [13056,19200]. Conditioning on 5376 tokens\n",
            "Primed sampling 8 samples with temp=0.98, top_k=0, top_p=0.0\n",
            "180/180 [00:30<00:00,  5.96it/s]\n",
            "768/768 [01:13<00:00, 10.39it/s]\n",
            "Sampling 6144 tokens for [13824,19968]. Conditioning on 5376 tokens\n",
            "Primed sampling 8 samples with temp=0.98, top_k=0, top_p=0.0\n",
            "180/180 [00:30<00:00,  5.96it/s]\n",
            "768/768 [01:13<00:00, 10.42it/s]\n",
            "Sampling 6144 tokens for [14592,20736]. Conditioning on 5376 tokens\n",
            "Primed sampling 8 samples with temp=0.98, top_k=0, top_p=0.0\n",
            "180/180 [00:30<00:00,  5.98it/s]\n",
            "768/768 [01:13<00:00, 10.42it/s]\n",
            "Sampling 6144 tokens for [15360,21504]. Conditioning on 5376 tokens\n",
            "Primed sampling 8 samples with temp=0.98, top_k=0, top_p=0.0\n",
            "180/180 [00:30<00:00,  5.98it/s]\n",
            "768/768 [01:13<00:00, 10.40it/s]\n",
            "Sampling 6144 tokens for [16128,22272]. Conditioning on 5376 tokens\n",
            "Primed sampling 8 samples with temp=0.98, top_k=0, top_p=0.0\n",
            "180/180 [00:30<00:00,  5.96it/s]\n",
            "768/768 [01:13<00:00, 10.41it/s]\n",
            "Sampling 6144 tokens for [16896,23040]. Conditioning on 5376 tokens\n",
            "Primed sampling 8 samples with temp=0.98, top_k=0, top_p=0.0\n",
            "180/180 [00:30<00:00,  5.97it/s]\n",
            "768/768 [01:13<00:00, 10.39it/s]\n",
            "Sampling 6144 tokens for [17664,23808]. Conditioning on 5376 tokens\n",
            "Primed sampling 8 samples with temp=0.98, top_k=0, top_p=0.0\n",
            "180/180 [00:30<00:00,  5.96it/s]\n",
            "768/768 [01:13<00:00, 10.42it/s]\n",
            "Sampling 6144 tokens for [18432,24576]. Conditioning on 5376 tokens\n",
            "Primed sampling 8 samples with temp=0.98, top_k=0, top_p=0.0\n",
            "180/180 [00:30<00:00,  5.98it/s]\n",
            "768/768 [01:13<00:00, 10.42it/s]\n",
            "Sampling 6144 tokens for [19200,25344]. Conditioning on 5376 tokens\n",
            "Primed sampling 8 samples with temp=0.98, top_k=0, top_p=0.0\n",
            "180/180 [00:30<00:00,  5.98it/s]\n",
            "768/768 [01:13<00:00, 10.41it/s]\n",
            "Sampling 6144 tokens for [19968,26112]. Conditioning on 5376 tokens\n",
            "Primed sampling 8 samples with temp=0.98, top_k=0, top_p=0.0\n",
            "180/180 [00:30<00:00,  5.95it/s]\n",
            "768/768 [01:13<00:00, 10.42it/s]\n",
            "Sampling 6144 tokens for [20736,26880]. Conditioning on 5376 tokens\n",
            "Primed sampling 8 samples with temp=0.98, top_k=0, top_p=0.0\n",
            "180/180 [00:30<00:00,  5.95it/s]\n",
            "768/768 [01:13<00:00, 10.41it/s]\n",
            "Sampling 6144 tokens for [21504,27648]. Conditioning on 5376 tokens\n",
            "Primed sampling 8 samples with temp=0.98, top_k=0, top_p=0.0\n",
            "180/180 [00:30<00:00,  5.98it/s]\n",
            "768/768 [01:13<00:00, 10.42it/s]\n",
            "Sampling 6144 tokens for [22272,28416]. Conditioning on 5376 tokens\n",
            "Primed sampling 8 samples with temp=0.98, top_k=0, top_p=0.0\n",
            "180/180 [00:30<00:00,  5.98it/s]\n",
            "768/768 [01:13<00:00, 10.42it/s]\n",
            "Sampling 6144 tokens for [23040,29184]. Conditioning on 5376 tokens\n",
            "Primed sampling 8 samples with temp=0.98, top_k=0, top_p=0.0\n",
            "180/180 [00:30<00:00,  5.98it/s]\n",
            "768/768 [01:13<00:00, 10.42it/s]\n",
            "Sampling 6144 tokens for [23808,29952]. Conditioning on 5376 tokens\n",
            "Primed sampling 8 samples with temp=0.98, top_k=0, top_p=0.0\n",
            "180/180 [00:30<00:00,  5.98it/s]\n",
            "768/768 [01:13<00:00, 10.42it/s]\n",
            "Sampling 6144 tokens for [24576,30720]. Conditioning on 5376 tokens\n",
            "Primed sampling 8 samples with temp=0.98, top_k=0, top_p=0.0\n",
            "180/180 [00:30<00:00,  5.98it/s]\n",
            "768/768 [01:13<00:00, 10.43it/s]\n",
            "Sampling 6144 tokens for [25344,31488]. Conditioning on 5376 tokens\n",
            "Primed sampling 8 samples with temp=0.98, top_k=0, top_p=0.0\n",
            "180/180 [00:29<00:00,  6.01it/s]\n",
            "768/768 [01:13<00:00, 10.40it/s]\n",
            "Sampling 6144 tokens for [26112,32256]. Conditioning on 5376 tokens\n",
            "Primed sampling 8 samples with temp=0.98, top_k=0, top_p=0.0\n",
            "180/180 [00:30<00:00,  5.96it/s]\n",
            "768/768 [01:13<00:00, 10.41it/s]\n",
            "Sampling 6144 tokens for [26880,33024]. Conditioning on 5376 tokens\n",
            "Primed sampling 8 samples with temp=0.98, top_k=0, top_p=0.0\n",
            "180/180 [00:30<00:00,  5.98it/s]\n",
            "768/768 [01:13<00:00, 10.41it/s]\n",
            "Sampling 6144 tokens for [27648,33792]. Conditioning on 5376 tokens\n",
            "Primed sampling 8 samples with temp=0.98, top_k=0, top_p=0.0\n",
            "180/180 [00:30<00:00,  5.96it/s]\n",
            "768/768 [01:13<00:00, 10.42it/s]\n",
            "Sampling 6144 tokens for [28416,34560]. Conditioning on 5376 tokens\n",
            "Primed sampling 8 samples with temp=0.98, top_k=0, top_p=0.0\n",
            "180/180 [00:30<00:00,  5.97it/s]\n",
            "768/768 [01:13<00:00, 10.43it/s]\n",
            "Sampling 6144 tokens for [29184,35328]. Conditioning on 5376 tokens\n",
            "Primed sampling 8 samples with temp=0.98, top_k=0, top_p=0.0\n",
            "180/180 [00:30<00:00,  5.98it/s]\n",
            "768/768 [01:13<00:00, 10.42it/s]\n",
            "Sampling 6144 tokens for [29952,36096]. Conditioning on 5376 tokens\n",
            "Primed sampling 8 samples with temp=0.98, top_k=0, top_p=0.0\n",
            "180/180 [00:30<00:00,  5.98it/s]\n",
            "768/768 [01:13<00:00, 10.41it/s]\n",
            "Sampling 6144 tokens for [30720,36864]. Conditioning on 5376 tokens\n",
            "Primed sampling 8 samples with temp=0.98, top_k=0, top_p=0.0\n",
            "180/180 [00:30<00:00,  5.96it/s]\n",
            "768/768 [01:13<00:00, 10.39it/s]\n",
            "Sampling 6144 tokens for [31488,37632]. Conditioning on 5376 tokens\n",
            "Primed sampling 8 samples with temp=0.98, top_k=0, top_p=0.0\n",
            "180/180 [00:30<00:00,  5.97it/s]\n",
            "768/768 [01:13<00:00, 10.41it/s]\n",
            "Sampling 6144 tokens for [32256,38400]. Conditioning on 5376 tokens\n",
            "Primed sampling 8 samples with temp=0.98, top_k=0, top_p=0.0\n",
            "180/180 [00:30<00:00,  5.97it/s]\n",
            "768/768 [01:13<00:00, 10.38it/s]\n",
            "Sampling 6144 tokens for [33024,39168]. Conditioning on 5376 tokens\n",
            "Primed sampling 8 samples with temp=0.98, top_k=0, top_p=0.0\n",
            "180/180 [00:30<00:00,  5.96it/s]\n",
            "768/768 [01:13<00:00, 10.40it/s]\n",
            "Sampling 6144 tokens for [33792,39936]. Conditioning on 5376 tokens\n",
            "Primed sampling 8 samples with temp=0.98, top_k=0, top_p=0.0\n",
            "180/180 [00:30<00:00,  5.98it/s]\n",
            "768/768 [01:13<00:00, 10.39it/s]\n",
            "Sampling 6144 tokens for [34560,40704]. Conditioning on 5376 tokens\n",
            "Primed sampling 8 samples with temp=0.98, top_k=0, top_p=0.0\n",
            "180/180 [00:30<00:00,  5.96it/s]\n",
            "768/768 [01:13<00:00, 10.38it/s]\n",
            "Sampling 6144 tokens for [35199,41343]. Conditioning on 5505 tokens\n",
            "Primed sampling 8 samples with temp=0.98, top_k=0, top_p=0.0\n",
            "185/185 [00:31<00:00,  5.91it/s]\n",
            "639/639 [01:01<00:00, 10.39it/s]\n"
          ],
          "name": "stdout"
        }
      ]
    },
    {
      "cell_type": "markdown",
      "metadata": {
        "id": "-gxY9aqHqfLJ"
      },
      "source": [
        "Listen to the results from the top level (note this will sound very noisy until we do the upsampling stage).  You may have more generated samples, depending on the batch size you requested."
      ]
    },
    {
      "cell_type": "code",
      "metadata": {
        "id": "TPZENDGZqOOb"
      },
      "source": [
        "Audio(f'{hps.name}/level_2/item_2.wav')"
      ],
      "execution_count": null,
      "outputs": []
    },
    {
      "cell_type": "markdown",
      "metadata": {
        "id": "EJc3bQxmusc6"
      },
      "source": [
        "We are now done with the large top_prior model, and instead load the upsamplers."
      ]
    },
    {
      "cell_type": "code",
      "metadata": {
        "id": "W5VLX0zRapIm"
      },
      "source": [
        "# Set this False if you are on a local machine that has enough memory (this allows you to do the\n",
        "# lyrics alignment visualization during the upsampling stage). For a hosted runtime, \n",
        "# we'll need to go ahead and delete the top_prior if you are using the 5b_lyrics model.\n",
        "if True:\n",
        "  del top_prior\n",
        "  empty_cache()\n",
        "  top_prior=None\n",
        "upsamplers = [make_prior(setup_hparams(prior, dict()), vqvae, 'cpu') for prior in priors[:-1]]\n",
        "labels[:2] = [prior.labeller.get_batch_labels(metas, 'cuda') for prior in upsamplers]"
      ],
      "execution_count": null,
      "outputs": []
    },
    {
      "cell_type": "markdown",
      "metadata": {
        "id": "eH_jUhGDprAt"
      },
      "source": [
        "Please note: this next upsampling step will take several hours.  At the free tier, Google CoLab lets you run for 12 hours.  As the upsampling is completed, samples will appear in the Files tab (you can access this at the left of the CoLab), under \"samples\" (or whatever hps.name is currently).  Level 1 is the partially upsampled version, and then Level 0 is fully completed."
      ]
    },
    {
      "cell_type": "code",
      "metadata": {
        "id": "9lkJgLolpZ6w"
      },
      "source": [
        "zs = upsample(zs, labels, sampling_kwargs, [*upsamplers, top_prior], hps)\n"
      ],
      "execution_count": null,
      "outputs": []
    },
    {
      "cell_type": "markdown",
      "metadata": {
        "id": "3SJgBYJPri55"
      },
      "source": [
        "Listen to your final sample!"
      ]
    },
    {
      "cell_type": "code",
      "metadata": {
        "id": "2ip2PPE0rgAb"
      },
      "source": [
        "Audio(f'{hps.name}/level_0/item_0.wav')"
      ],
      "execution_count": null,
      "outputs": []
    },
    {
      "cell_type": "code",
      "metadata": {
        "id": "8JAgFxytwrLG"
      },
      "source": [
        "del upsamplers\n",
        "empty_cache()"
      ],
      "execution_count": null,
      "outputs": []
    },
    {
      "cell_type": "markdown",
      "metadata": {
        "id": "LpvvFH85bbBC"
      },
      "source": [
        "# Co-Composing with the 5B or 1B Lyrics Model"
      ]
    },
    {
      "cell_type": "markdown",
      "metadata": {
        "id": "nFDROuS7gFQY"
      },
      "source": [
        "For more control over the generations, try co-composing with either the 5B or 1B Lyrics Models.  Again, specify your artist, genre, and lyrics. However, now instead of generating the entire sample, the model will return 3 short options for the opening of the piece (or up to 16 options if you use the 1B model instead).  Choose your favorite, and then continue the loop, for as long as you like.  Throughout these steps, you'll be listening to the audio at the top prior level, which means it will sound quite noisy.  When you are satisfied with your co-creation, continue on through the upsampling section. This will render the piece in higher audio quality.\n",
        "\n",
        "NOTE: CoLab will first assign you a lower memory machine if you are using a hosted runtime.  The next cell will run out of memory, and then you'll be prompted to restart with more memory (then return to the top of this CoLab).  If you continue to have memory issues after this (or run into issues on your own home setup), switch to the 1B model. "
      ]
    },
    {
      "cell_type": "code",
      "metadata": {
        "id": "3y-q8ifhGBlU"
      },
      "source": [
        "model = \"5b_lyrics\" # or \"1b_lyrics\"\n",
        "hps = Hyperparams()\n",
        "hps.sr = 44100\n",
        "hps.n_samples = 3 if model=='5b_lyrics' else 16\n",
        "hps.name = 'co_composer'\n",
        "hps.sample_length = 1048576 if model==\"5b_lyrics\" else 786432 \n",
        "chunk_size = 16 if model==\"5b_lyrics\" else 32\n",
        "max_batch_size = 3 if model==\"5b_lyrics\" else 16\n",
        "hps.hop_fraction = [.5, .5, .125] \n",
        "hps.levels = 3\n",
        "\n",
        "vqvae, *priors = MODELS[model]\n",
        "vqvae = make_vqvae(setup_hparams(vqvae, dict(sample_length = hps.sample_length)), device)\n",
        "top_prior = make_prior(setup_hparams(priors[-1], dict()), vqvae, device)"
      ],
      "execution_count": null,
      "outputs": []
    },
    {
      "cell_type": "markdown",
      "metadata": {
        "id": "68hz4x7igq0c"
      },
      "source": [
        "Choose your artist, genre, and lyrics here!"
      ]
    },
    {
      "cell_type": "code",
      "metadata": {
        "id": "QDMvH_1zUHo6"
      },
      "source": [
        "total_sample_length_in_seconds = 120\n",
        "metas = [dict(artist = \"Zac Brown Band\",\n",
        "            genre = \"Country\",\n",
        "            total_length = total_sample_length_in_seconds * hps.sr,\n",
        "            offset = 0,\n",
        "            lyrics = \"\"\"I met a traveller from an antique land,\n",
        "            Who said—“Two vast and trunkless legs of stone\n",
        "            Stand in the desert. . . . Near them, on the sand,\n",
        "            Half sunk a shattered visage lies, whose frown,\n",
        "            And wrinkled lip, and sneer of cold command,\n",
        "            Tell that its sculptor well those passions read\n",
        "            Which yet survive, stamped on these lifeless things,\n",
        "            The hand that mocked them, and the heart that fed;\n",
        "            And on the pedestal, these words appear:\n",
        "            My name is Ozymandias, King of Kings;\n",
        "            Look on my Works, ye Mighty, and despair!\n",
        "            Nothing beside remains. Round the decay\n",
        "            Of that colossal Wreck, boundless and bare\n",
        "            The lone and level sands stretch far away\n",
        "            \"\"\",\n",
        "            ),\n",
        "          ] * hps.n_samples\n",
        "labels = top_prior.labeller.get_batch_labels(metas, 'cuda')"
      ],
      "execution_count": null,
      "outputs": []
    },
    {
      "cell_type": "markdown",
      "metadata": {
        "id": "B9onZMEXh34f"
      },
      "source": [
        "## Generate 3 options for the start of the song\n",
        "\n",
        "Initial generation is set to be 4 seconds long, but feel free to change this"
      ]
    },
    {
      "cell_type": "code",
      "metadata": {
        "id": "c6peEj8I_HHO"
      },
      "source": [
        "def seconds_to_tokens(sec, sr, prior, chunk_size):\n",
        "  tokens = sec * hps.sr // prior.raw_to_tokens\n",
        "  tokens = ((tokens // chunk_size) + 1) * chunk_size\n",
        "  assert tokens <= prior.n_ctx, 'Choose a shorter generation length to stay within the top prior context'\n",
        "  return tokens"
      ],
      "execution_count": null,
      "outputs": []
    },
    {
      "cell_type": "code",
      "metadata": {
        "id": "2gn2GXt3zt3y"
      },
      "source": [
        "initial_generation_in_seconds = 4\n",
        "tokens_to_sample = seconds_to_tokens(initial_generation_in_seconds, hps.sr, top_prior, chunk_size)"
      ],
      "execution_count": null,
      "outputs": []
    },
    {
      "cell_type": "markdown",
      "metadata": {
        "id": "U0zcWcMoiigl"
      },
      "source": [
        "Change the sampling temperature if you like (higher is more random).  Our favorite is in the range .98 to .995"
      ]
    },
    {
      "cell_type": "code",
      "metadata": {
        "id": "NHbH68H7VMeO"
      },
      "source": [
        "sampling_temperature = .98\n",
        "sampling_kwargs = dict(temp=sampling_temperature, fp16=True,\n",
        "                       max_batch_size=max_batch_size, chunk_size=chunk_size)"
      ],
      "execution_count": null,
      "outputs": []
    },
    {
      "cell_type": "code",
      "metadata": {
        "id": "JGZEPe-WTt4g"
      },
      "source": [
        "zs=[t.zeros(hps.n_samples,0,dtype=t.long, device='cuda') for _ in range(3)]\n",
        "zs=sample_partial_window(zs, labels, sampling_kwargs, 2, top_prior, tokens_to_sample, hps)\n",
        "x = vqvae.decode(zs[2:], start_level=2).cpu().numpy()"
      ],
      "execution_count": null,
      "outputs": []
    },
    {
      "cell_type": "markdown",
      "metadata": {
        "id": "mveN4Be8jK2J"
      },
      "source": [
        "Listen to your generated samples, and then pick a favorite. If you don't like any, go back and rerun the cell above. \n",
        "\n",
        "** NOTE this is at the noisy top level, upsample fully (in the next section) to hear the final audio version"
      ]
    },
    {
      "cell_type": "code",
      "metadata": {
        "id": "LrJSGMhUOhZg"
      },
      "source": [
        "for i in range(hps.n_samples):\n",
        "  librosa.output.write_wav(f'noisy_top_level_generation_{i}.wav', x[i], sr=44100)"
      ],
      "execution_count": null,
      "outputs": []
    },
    {
      "cell_type": "code",
      "metadata": {
        "id": "rQ4ersQ5OhZr"
      },
      "source": [
        "Audio('noisy_top_level_generation_0.wav')"
      ],
      "execution_count": null,
      "outputs": []
    },
    {
      "cell_type": "code",
      "metadata": {
        "id": "-GdqzrGkOhZv"
      },
      "source": [
        "Audio('noisy_top_level_generation_1.wav')"
      ],
      "execution_count": null,
      "outputs": []
    },
    {
      "cell_type": "code",
      "metadata": {
        "id": "gE5S8hyZOhZy"
      },
      "source": [
        "Audio('noisy_top_level_generation_2.wav')"
      ],
      "execution_count": null,
      "outputs": []
    },
    {
      "cell_type": "markdown",
      "metadata": {
        "id": "t2-mEJaqZfuS"
      },
      "source": [
        "If you don't like any of the options, return a few cells back to \"Sample a few options...\" and rerun from there."
      ]
    },
    {
      "cell_type": "markdown",
      "metadata": {
        "id": "o7CzSiv0MmFP"
      },
      "source": [
        "## Choose your favorite sample and request longer generation\n",
        "\n",
        "---\n",
        "\n",
        "(Repeat from here)\n"
      ]
    },
    {
      "cell_type": "code",
      "metadata": {
        "id": "j_XFtVi99CIY"
      },
      "source": [
        "my_choice=0"
      ],
      "execution_count": null,
      "outputs": []
    },
    {
      "cell_type": "code",
      "metadata": {
        "id": "Pgk3sHHBLYoq"
      },
      "source": [
        "zs[2]=zs[2][my_choice].repeat(hps.n_samples,1)\n",
        "t.save(zs, 'zs-checkpoint2.t')"
      ],
      "execution_count": null,
      "outputs": []
    },
    {
      "cell_type": "code",
      "metadata": {
        "id": "W8Rd9xxm565S"
      },
      "source": [
        "# Set to True to load the previous checkpoint:\n",
        "if False:\n",
        "  zs=t.load('zs-checkpoint2.t') "
      ],
      "execution_count": null,
      "outputs": []
    },
    {
      "cell_type": "markdown",
      "metadata": {
        "id": "k12xjMgHkRGP"
      },
      "source": [
        "Choose the length of the continuation.  The 1B model can generate up to 17 second samples and the 5B up to 23 seconds, but you'll want to pick a shorter continuation length so that it will be able to look back at what you've generated already.  Here we've chosen 4 seconds."
      ]
    },
    {
      "cell_type": "code",
      "metadata": {
        "id": "h3_-0a07kHHG"
      },
      "source": [
        "continue_generation_in_seconds=4\n",
        "tokens_to_sample = seconds_to_tokens(continue_generation_in_seconds, hps.sr, top_prior, chunk_size)"
      ],
      "execution_count": null,
      "outputs": []
    },
    {
      "cell_type": "markdown",
      "metadata": {
        "id": "GpPG3Ifqk8ue"
      },
      "source": [
        "The next step asks the top prior to generate more of the sample. It'll take up to a few minutes, depending on the sample length you request."
      ]
    },
    {
      "cell_type": "code",
      "metadata": {
        "id": "YoHkeSTaEyLj"
      },
      "source": [
        "zs = sample_partial_window(zs, labels, sampling_kwargs, 2, top_prior, tokens_to_sample, hps)\n",
        "x = vqvae.decode(zs[2:], start_level=2).cpu().numpy()"
      ],
      "execution_count": null,
      "outputs": []
    },
    {
      "cell_type": "markdown",
      "metadata": {
        "id": "ymhUqEdhleEi"
      },
      "source": [
        "Now listen to the longer versions of the sample you selected, and again choose a favorite sample.  If you don't like any, return back to the cell where you can load the checkpoint, and continue again from there.\n",
        "\n",
        "When the samples start getting long, you might not always want to listen from the start, so change the playback start time later on if you like."
      ]
    },
    {
      "cell_type": "code",
      "metadata": {
        "id": "2H1LNLTa_R6a"
      },
      "source": [
        "playback_start_time_in_seconds = 0 "
      ],
      "execution_count": null,
      "outputs": []
    },
    {
      "cell_type": "code",
      "metadata": {
        "id": "r4SBGAmsnJtH"
      },
      "source": [
        "for i in range(hps.n_samples):\n",
        "  librosa.output.write_wav(f'top_level_continuation_{i}.wav', x[i][playback_start_time_in_seconds*44100:], sr=44100)"
      ],
      "execution_count": null,
      "outputs": []
    },
    {
      "cell_type": "code",
      "metadata": {
        "id": "2WeyE5Qtnmeo"
      },
      "source": [
        "Audio('top_level_continuation_0.wav')"
      ],
      "execution_count": null,
      "outputs": []
    },
    {
      "cell_type": "code",
      "metadata": {
        "id": "BKtfEtcaazXE"
      },
      "source": [
        "Audio('top_level_continuation_1.wav')"
      ],
      "execution_count": null,
      "outputs": []
    },
    {
      "cell_type": "code",
      "metadata": {
        "id": "7yrlS0XwK2S0"
      },
      "source": [
        "Audio('top_level_continuation_2.wav')"
      ],
      "execution_count": null,
      "outputs": []
    },
    {
      "cell_type": "markdown",
      "metadata": {
        "id": "-OJT704dvnGv"
      },
      "source": [
        "To make a longer song, return back to \"Choose your favorite sample\" and loop through that again"
      ]
    },
    {
      "cell_type": "markdown",
      "metadata": {
        "id": "RzCrkCZJvUcQ"
      },
      "source": [
        "# Upsample Co-Composition to Higher Audio Quality"
      ]
    },
    {
      "cell_type": "markdown",
      "metadata": {
        "id": "4MPgukwMmB0p"
      },
      "source": [
        "Choose your favorite sample from your latest group of generations.  (If you haven't already gone through the Co-Composition block, make sure to do that first so you have a generation to upsample)."
      ]
    },
    {
      "cell_type": "code",
      "metadata": {
        "id": "yv-pNNPHBQYC"
      },
      "source": [
        "choice = 0\n",
        "select_best_sample = True  # Set false if you want to upsample all your samples \n",
        "                           # upsampling sometimes yields subtly different results on multiple runs,\n",
        "                           # so this way you can choose your favorite upsampling"
      ],
      "execution_count": null,
      "outputs": []
    },
    {
      "cell_type": "code",
      "metadata": {
        "id": "v17cEAqyCgfo"
      },
      "source": [
        "if select_best_sample:\n",
        "  zs[2]=zs[2][choice].repeat(zs[2].shape[0],1)\n",
        "\n",
        "t.save(zs, 'zs-top-level-final.t')"
      ],
      "execution_count": null,
      "outputs": []
    },
    {
      "cell_type": "markdown",
      "metadata": {
        "id": "0YjK-Ac0tBfu"
      },
      "source": [
        "Note: If you are using a CoLab hosted runtime on the free tier, you may want to download this zs-top-level-final.t file, and then restart an instance and load it in the next cell.  The free tier will last a maximum of 12 hours, and the upsampling stage can take many hours, depending on how long a sample you have generated."
      ]
    },
    {
      "cell_type": "code",
      "metadata": {
        "id": "qqlR9368s3jJ"
      },
      "source": [
        "if False:\n",
        "  zs = t.load('zs-top-level-final.t')\n",
        "\n",
        "assert zs[2].shape[1]>=2048, f'Please first generate at least 2048 tokens at the top level, currently you have {zs[2].shape[1]}'\n",
        "hps.sample_length = zs[2].shape[1]*top_prior.raw_to_tokens"
      ],
      "execution_count": null,
      "outputs": []
    },
    {
      "cell_type": "code",
      "metadata": {
        "id": "jzHwF_iqgIWM"
      },
      "source": [
        "# Set this False if you are on a local machine that has enough memory (this allows you to do the\n",
        "# lyrics alignment visualization). For a hosted runtime, we'll need to go ahead and delete the top_prior\n",
        "# if you are using the 5b_lyrics model.\n",
        "if True:\n",
        "  del top_prior\n",
        "  empty_cache()\n",
        "  top_prior=None\n",
        "\n",
        "upsamplers = [make_prior(setup_hparams(prior, dict()), vqvae, 'cpu') for prior in priors[:-1]]"
      ],
      "execution_count": null,
      "outputs": []
    },
    {
      "cell_type": "code",
      "metadata": {
        "id": "q22Ier6YSkKS"
      },
      "source": [
        "sampling_kwargs = [dict(temp=.99, fp16=True, max_batch_size=16, chunk_size=32),\n",
        "                    dict(temp=0.99, fp16=True, max_batch_size=16, chunk_size=32),\n",
        "                    None]\n",
        "\n",
        "if type(labels)==dict:\n",
        "  labels = [prior.labeller.get_batch_labels(metas, 'cuda') for prior in upsamplers] + [labels] "
      ],
      "execution_count": null,
      "outputs": []
    },
    {
      "cell_type": "markdown",
      "metadata": {
        "id": "T1MCa9_jnjpf"
      },
      "source": [
        "This next step upsamples 2 levels.  The level_1 samples will be available after around one hour (depending on the length of your sample) and are saved under {hps.name}/level_0/item_0.wav, while the fully upsampled level_0 will likely take 4-12 hours. You can access the wav files down below, or using the \"Files\" panel at the left of this CoLab.\n",
        "\n",
        "(Please note, if you are using this CoLab on Google's free tier, you may want to download intermediate steps as the connection will last for a maximum 12 hours.)"
      ]
    },
    {
      "cell_type": "code",
      "metadata": {
        "id": "NcNT5qIRMmHq"
      },
      "source": [
        "zs = upsample(zs, labels, sampling_kwargs, [*upsamplers, top_prior], hps)"
      ],
      "execution_count": null,
      "outputs": []
    },
    {
      "cell_type": "code",
      "metadata": {
        "id": "W2jTYLPBc29M"
      },
      "source": [
        "Audio(f'{hps.name}/level_0/item_0.wav')"
      ],
      "execution_count": null,
      "outputs": []
    }
  ]
}