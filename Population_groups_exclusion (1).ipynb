{
  "nbformat": 4,
  "nbformat_minor": 0,
  "metadata": {
    "colab": {
      "name": "Population groups exclusion.ipynb",
      "provenance": []
    },
    "kernelspec": {
      "name": "python3",
      "display_name": "Python 3"
    }
  },
  "cells": [
    {
      "cell_type": "markdown",
      "metadata": {
        "id": "GHzfHkFC0tDf"
      },
      "source": [
        "# Understanding the risks of excluding population groups in whole population sampling\n",
        "In this example we will be looking at the whole population A∪B, where B represents a minority group. B could represent an ethnic minority group or a vulnerable patient group. \n",
        "\n",
        "Sampling from the general population A∪B carries a risk of underrepresenting group B which grows when A:B is high and sample fraction * B < 3.\n",
        "\n",
        "Calculating P(nB=0,1) is a lengthy calculation. This notebook provides a 'ready reckoner' by simulating a general population sampling exercise and generating estimates for P(nB=x).\n",
        "\n",
        "Practitioners should prioritise stratified random sampling when P(nB=0∪1) is high. \n",
        "\n",
        "For this exercise we will use a sample fraction of 0.2."
      ]
    },
    {
      "cell_type": "code",
      "metadata": {
        "id": "_J0zFUG72w7d"
      },
      "source": [
        "import pandas as pd\n",
        "import seaborn as sns\n",
        "import numpy as np\n",
        "%matplotlib inline\n",
        "import matplotlib.pyplot as plt\n",
        "\n",
        "def gen_frame(a): #generates a data set of 100 people when a is the fraction of people belonging to group B\n",
        "    a=int(a*100)\n",
        "    colu1 = [0] * (100-a)\n",
        "    colu2=  [1] * a\n",
        "    colu = colu1+colu2\n",
        "    df = pd.DataFrame(colu)\n",
        "    return df\n",
        "\n",
        "def count_zeros(lst): #counts how many zeros our list contains\n",
        "    zeros=lst.count(0)\n",
        "    return zeros\n",
        "        \n",
        "\n",
        "def random_sample(df): #takes a sample fraction of A∪B and provides absolute count of nB\n",
        "    size = len(df.index) * 0.2\n",
        "    size = int(size)\n",
        "    samp = df.sample(size) \n",
        "    cnt= samp[samp == 1].sum(axis=0)\n",
        "    return cnt\n",
        "\n",
        "def single_run_with_zeros(df): # runs the simulation 100 times and returns how many times nB=0\n",
        "    run=[]\n",
        "    i = 1\n",
        "    while i < 10000:   \n",
        "        run.append(int(random_sample(df)))\n",
        "        i += 1\n",
        "    z= count_zeros(run)\n",
        "    return z/i  \n",
        "\n",
        "def single_run(df,iterations): # runs the simulation 100 times and returns list of nB.\n",
        "  run=[]\n",
        "#  iterations=100\n",
        "  i = 1\n",
        "  while i < iterations:   \n",
        "    run.append(int(random_sample(df)))\n",
        "    i += 1\n",
        "  return run"
      ],
      "execution_count": null,
      "outputs": []
    },
    {
      "cell_type": "markdown",
      "metadata": {
        "id": "83f4n1eo3lex"
      },
      "source": [
        "We will start by running our simulation 100 times where a (the proportion of group B in the general population) is 0.1.\n"
      ]
    },
    {
      "cell_type": "code",
      "metadata": {
        "colab": {
          "base_uri": "https://localhost:8080/"
        },
        "id": "MtW7zhPL4xmQ",
        "outputId": "df50bff1-4f95-4009-adff-6d23c7edfba2"
      },
      "source": [
        "a=0.1\n",
        "df = gen_frame(a)\n",
        "run = single_run(df,100)\n",
        "print(run)\n"
      ],
      "execution_count": null,
      "outputs": [
        {
          "output_type": "stream",
          "text": [
            "[2, 2, 2, 1, 1, 1, 0, 1, 4, 4, 3, 2, 3, 1, 3, 2, 2, 0, 1, 3, 2, 3, 1, 1, 2, 1, 1, 2, 3, 4, 3, 4, 2, 3, 1, 1, 0, 1, 2, 4, 2, 3, 2, 2, 3, 2, 4, 1, 3, 1, 0, 1, 1, 5, 4, 1, 2, 1, 0, 2, 4, 4, 2, 3, 3, 2, 1, 3, 1, 2, 1, 2, 3, 1, 1, 3, 3, 2, 3, 3, 2, 3, 1, 0, 2, 1, 3, 3, 4, 2, 0, 2, 3, 1, 2, 2, 1, 2, 2]\n"
          ],
          "name": "stdout"
        }
      ]
    },
    {
      "cell_type": "markdown",
      "metadata": {
        "id": "48vudxoR6hYP"
      },
      "source": [
        "Let's understand P(nb=x) with a histogram"
      ]
    },
    {
      "cell_type": "code",
      "metadata": {
        "colab": {
          "base_uri": "https://localhost:8080/",
          "height": 265
        },
        "id": "4F0FRrrv6rIz",
        "outputId": "229cea60-d3c8-41a8-8a13-53c462d5902b"
      },
      "source": [
        "bins = np.arange(0,6,1)\n",
        "\n",
        "hist, edges = np.histogram(run, bins)\n",
        "freq = hist/float(hist.sum())\n",
        "\n",
        "plt.bar(bins[:-1],freq,width=1, align=\"edge\", ec=\"k\" )\n",
        "\n",
        "plt.show()\n",
        "#print('Probability of selecting zero=',hist[0]/100)"
      ],
      "execution_count": null,
      "outputs": [
        {
          "output_type": "display_data",
          "data": {
            "image/png": "[encoded data removed]",
            "text/plain": [
              "<Figure size 432x288 with 1 Axes>"
            ]
          },
          "metadata": {
            "tags": [],
            "needs_background": "light"
          }
        }
      ]
    },
    {
      "cell_type": "markdown",
      "metadata": {
        "id": "wOAvxqMV7kt5"
      },
      "source": [
        "\n",
        "\n",
        "\n",
        "Although the expectation value for this sample is 2, we can already see it is more likely population group B will be unrepresented than be representated proportionally. \n",
        "\n",
        "Let's read off some more probabilities.\n",
        "\n"
      ]
    },
    {
      "cell_type": "code",
      "metadata": {
        "colab": {
          "base_uri": "https://localhost:8080/"
        },
        "id": "cZWP4DU78DJZ",
        "outputId": "2768db50-e2c1-49ae-d7a3-bc6127485893"
      },
      "source": [
        "zer= run.count(0)\n",
        "undr= run.count(0) + run.count(1)\n",
        "corr= run.count(2)\n",
        "ovr= run.count(3) + run.count(4)\n",
        "\n",
        "print('Probability of zero representation=',hist[0]/100)\n",
        "print('Probability of under representation=',undr/100)\n",
        "print('Probability of proportional representation=',corr/100)\n",
        "print('Probability of over representation=',ovr/100)"
      ],
      "execution_count": null,
      "outputs": [
        {
          "output_type": "stream",
          "text": [
            "Probability of zero representation= 0.07\n",
            "Probability of under representation= 0.35\n",
            "Probability of proportional representation= 0.3\n",
            "Probability of over representation= 0.33\n"
          ],
          "name": "stdout"
        }
      ]
    },
    {
      "cell_type": "markdown",
      "metadata": {
        "id": "Oi_QoYAe8zBZ"
      },
      "source": [
        "In this example we have demonstrated that a minority group of 10% of the general population is more likely to be unrepresented than overrepresented in a random, non-stratified sample. \n",
        "\n",
        "# Part 2: General case\n",
        "\n",
        "In part 2 we are going to model how the probability of zero representation varies as the fraction of our minority group changes between 1 and 20%. We will run 10,000 simulations and plot the proportion of runs in which zero representation occurs."
      ]
    },
    {
      "cell_type": "code",
      "metadata": {
        "colab": {
          "base_uri": "https://localhost:8080/",
          "height": 656
        },
        "id": "SEWle6TG9kXV",
        "outputId": "96f5e411-5e1f-417f-9eef-f636a8634ffd"
      },
      "source": [
        "i=0\n",
        "output = []\n",
        "while i<21:\n",
        "    df= gen_frame(i/100)\n",
        "    z= single_run_with_zeros(df)    \n",
        "    output.append(z)\n",
        "    i +=1\n",
        "outdf=pd.DataFrame(output)\n",
        "print (outdf)\n",
        "sns.lineplot(data=outdf)"
      ],
      "execution_count": null,
      "outputs": [
        {
          "output_type": "stream",
          "text": [
            "        0\n",
            "0   0.999\n",
            "1   0.785\n",
            "2   0.650\n",
            "3   0.501\n",
            "4   0.421\n",
            "5   0.319\n",
            "6   0.254\n",
            "7   0.187\n",
            "8   0.147\n",
            "9   0.144\n",
            "10  0.104\n",
            "11  0.076\n",
            "12  0.053\n",
            "13  0.041\n",
            "14  0.037\n",
            "15  0.020\n",
            "16  0.015\n",
            "17  0.019\n",
            "18  0.008\n",
            "19  0.016\n",
            "20  0.005\n"
          ],
          "name": "stdout"
        },
        {
          "output_type": "execute_result",
          "data": {
            "text/plain": [
              "<matplotlib.axes._subplots.AxesSubplot at 0x7f01081d0f28>"
            ]
          },
          "metadata": {
            "tags": []
          },
          "execution_count": 17
        },
        {
          "output_type": "display_data",
          "data": {
            "image/png": "[encoded data removed]",
            "text/plain": [
              "<Figure size 432x288 with 1 Axes>"
            ]
          },
          "metadata": {
            "tags": [],
            "needs_background": "light"
          }
        }
      ]
    },
    {
      "cell_type": "markdown",
      "metadata": {
        "id": "6xW0XWlVcqro"
      },
      "source": [
        "This demonstrates that the probability of selecting zero people from a minority group decreases non-linearly as the proportion of this group increases. There is a steep fall off at >0.08, however this remains non-zero as far as 0.20. \n",
        "<br>\n",
        "<br>\n",
        "This plot demonstrates the importance of using sampling techniques such as stratified random sampling to mitigate against this effect. \n"
      ]
    }
  ]
}